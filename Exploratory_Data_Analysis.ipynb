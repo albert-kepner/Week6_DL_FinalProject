{
 "cells": [
  {
   "cell_type": "markdown",
   "id": "c1068a08",
   "metadata": {},
   "source": [
    "# Exploratory Data Analysis"
   ]
  },
  {
   "cell_type": "code",
   "execution_count": null,
   "id": "522278c6",
   "metadata": {},
   "outputs": [],
   "source": []
  },
  {
   "cell_type": "code",
   "execution_count": null,
   "id": "2b9be309",
   "metadata": {},
   "outputs": [],
   "source": []
  },
  {
   "cell_type": "code",
   "execution_count": null,
   "id": "c970e0ac",
   "metadata": {},
   "outputs": [],
   "source": []
  },
  {
   "cell_type": "markdown",
   "id": "6bbd03d0",
   "metadata": {},
   "source": [
    "## Data Loading Convenience Functions:\n",
    "\n",
    "Two data loading functions are shown here but are also stored in separate python scripts:\n",
    "    \n",
    "1. load_mnist_dataset_flat.py -- loads and flattens the MNIST training and test sets for training dense networks\n",
    "\n",
    "1. load_mnist_dataset.py -- loads the MNIST data as 2 D images for the CNN networks. Also controls the split between a training and validation set, to allow training with different sample sizes."
   ]
  },
  {
   "cell_type": "code",
   "execution_count": 1,
   "id": "27231cd4",
   "metadata": {},
   "outputs": [],
   "source": [
    "import tensorflow as tf\n",
    "from tensorflow import keras\n",
    "def load_mnist_dataset_flat():\n",
    "    \"\"\"\n",
    "    Load the MNIST data set consisting of handwritten single digit images 0-9\n",
    "    formatted as 28 x 28 pixels with one channel (black and white)\n",
    "    60000 images are for training\n",
    "    10000 images are for testing\n",
    "    This function reshapes the images as flattened 784 byte arrays\n",
    "    The image bytes are normalized as float in [0,1]\n",
    "    Y_train and Y_test are one-hot encoded for the 10 digit classes\n",
    "    returns X_train, X_test, Y_train, Y_test\n",
    "    \"\"\"\n",
    "    DIGIT_CLASSES = 10\n",
    "    RESHAPED = 28 * 28 ## 784 pixels per image\n",
    "    mnist = keras.datasets.mnist\n",
    "    (X_train, Y_train), (X_test, Y_test) = mnist.load_data()\n",
    "\n",
    "    #X_train is 60000 rows of 28x28 values --> reshaped in 60000 x 784\n",
    "    RESHAPED = 784\n",
    "    #\n",
    "    X_train = X_train.reshape(60000, RESHAPED)\n",
    "    X_test = X_test.reshape(10000, RESHAPED)\n",
    "    X_train = X_train.astype('float32')\n",
    "    X_test = X_test.astype('float32')\n",
    "\n",
    "    #normalize in [0,1]\n",
    "    X_train /= 255\n",
    "    X_test /= 255\n",
    "    print(X_train.shape[0], 'train samples')\n",
    "    print(X_test.shape[0], 'test samples')\n",
    "\n",
    "    #one-hot\n",
    "    Y_train = tf.keras.utils.to_categorical(Y_train, DIGIT_CLASSES)\n",
    "    Y_test = tf.keras.utils.to_categorical(Y_test, DIGIT_CLASSES)\n",
    "    return X_train, X_test, Y_train, Y_test"
   ]
  },
  {
   "cell_type": "code",
   "execution_count": null,
   "id": "6cf88fc9",
   "metadata": {},
   "outputs": [],
   "source": [
    "import tensorflow as tf\n",
    "from tensorflow import keras\n",
    "def load_mnist_dataset(train_size=10000, flatten=True):\n",
    "    \"\"\"\n",
    "    Load the MNIST data set consisting of handwritten single digit images 0-9\n",
    "    formatted as 28 x 28 pixels with one channel (black and white)\n",
    "    60000 images are for training\n",
    "    10000 images are for testing\n",
    "    This function reshapes the images as flattened 784 byte arrays, if needed\n",
    "    The image bytes are normalized as float in [0,1]\n",
    "    Y_train and Y_test are one-hot encoded for the 10 digit classes\n",
    "    returns X_train, X_test, Y_train, Y_test\n",
    "    \"\"\"\n",
    "    DIGIT_CLASSES = 10\n",
    "    mnist = keras.datasets.mnist\n",
    "    (X_train, Y_train), (X_test, Y_test) = mnist.load_data()\n",
    "\n",
    "    #\n",
    "    if flatten:\n",
    "        #X_train is 60000 rows of 28x28 values --> reshaped in 60000 x 784\n",
    "        RESHAPED = 784\n",
    "        X_train = X_train.reshape(60000, RESHAPED)\n",
    "        X_test = X_test.reshape(10000, RESHAPED)\n",
    "    else:\n",
    "        # Retain 2D image shape for CNN\n",
    "        X_train = X_train.reshape((60000, 28, 28, 1))\n",
    "        X_test = X_test.reshape((10000, 28, 28, 1))\n",
    "\n",
    "            \n",
    "    X_train = X_train.astype('float32')\n",
    "    X_test = X_test.astype('float32')\n",
    "\n",
    "    #normalize in [0,1]\n",
    "    X_train /= 255\n",
    "    X_test /= 255\n",
    "\n",
    "    #one-hot\n",
    "    Y_train = tf.keras.utils.to_categorical(Y_train, DIGIT_CLASSES)\n",
    "    Y_test = tf.keras.utils.to_categorical(Y_test, DIGIT_CLASSES)\n",
    "    ## Split off a smaller training sample of specified size and use\n",
    "    ## the remainder of the training data as a validation set\n",
    "    X_valid = X_train[train_size:]\n",
    "    Y_valid = Y_train[train_size:]\n",
    "    X_train = X_train[:train_size]\n",
    "    Y_train = Y_train[:train_size]\n",
    "    print(X_train.shape[0], 'train samples')\n",
    "    print(X_valid.shape[0], 'validation samples')\n",
    "    print(X_test.shape[0], 'test samples')\n",
    "    \n",
    "    return X_train, X_valid, X_test, Y_train, Y_valid, Y_test"
   ]
  },
  {
   "cell_type": "code",
   "execution_count": 1,
   "id": "95adb7bd",
   "metadata": {},
   "outputs": [
    {
     "name": "stdout",
     "output_type": "stream",
     "text": [
      "60000 train samples\n",
      "10000 test samples\n"
     ]
    }
   ],
   "source": [
    "%run load_mnist_dataset_flat.py\n",
    "X_train, X_test, Y_train, Y_test = load_mnist_dataset_flat()"
   ]
  },
  {
   "cell_type": "code",
   "execution_count": 3,
   "id": "25ff8c97",
   "metadata": {},
   "outputs": [
    {
     "name": "stdout",
     "output_type": "stream",
     "text": [
      "10000 train samples\n",
      "50000 validation samples\n",
      "10000 test samples\n"
     ]
    }
   ],
   "source": [
    "%run load_mnist_dataset.py\n",
    "X_train, X_valid, X_test, Y_train, Y_valid, Y_test = load_mnist_dataset()"
   ]
  },
  {
   "cell_type": "code",
   "execution_count": null,
   "id": "f21af506",
   "metadata": {},
   "outputs": [],
   "source": []
  }
 ],
 "metadata": {
  "kernelspec": {
   "display_name": "Python 3 (ipykernel)",
   "language": "python",
   "name": "python3"
  },
  "language_info": {
   "codemirror_mode": {
    "name": "ipython",
    "version": 3
   },
   "file_extension": ".py",
   "mimetype": "text/x-python",
   "name": "python",
   "nbconvert_exporter": "python",
   "pygments_lexer": "ipython3",
   "version": "3.9.12"
  }
 },
 "nbformat": 4,
 "nbformat_minor": 5
}
