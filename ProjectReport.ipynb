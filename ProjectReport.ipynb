{
 "cells": [
  {
   "cell_type": "markdown",
   "id": "a639d6ec",
   "metadata": {},
   "source": [
    "# Experiments with Model Architecture using the MNIST Digits Data Set"
   ]
  },
  {
   "cell_type": "markdown",
   "id": "6854d4b1",
   "metadata": {},
   "source": [
    "\n",
    "For this project we are building a number of different models to classify the handwritten digits in the MNIST data set. The performance of various models is compared for both accurcy on the test data and run time. We also compared some of the models using successively smaller training samples to see how accuracy changes with less data.\n",
    "\n"
   ]
  },
  {
   "cell_type": "markdown",
   "id": "f08e9c9f",
   "metadata": {},
   "source": [
    "## Exploratory Data Analysis"
   ]
  },
  {
   "cell_type": "code",
   "execution_count": null,
   "id": "8efe0ae9",
   "metadata": {},
   "outputs": [],
   "source": []
  },
  {
   "cell_type": "markdown",
   "id": "7cd92e41",
   "metadata": {},
   "source": [
    "## Model Architectures\n",
    "\n",
    "We will be comparing three types of models Keras sequential models for this classification problem:\n",
    "\n",
    "1. Baseline Model -- Simple dense network with no hidden layers\n",
    "\n",
    "1. Deeper Dense models -- comparing fully connected dense networks with 1, 2, 3, or 4 hidden layers and also varying the number of hidden units per layer.\n",
    "\n",
    "1. Four variations on a convolutional neural network or CNN."
   ]
  },
  {
   "cell_type": "markdown",
   "id": "3997fdad",
   "metadata": {},
   "source": [
    "## Baseline Dense Model"
   ]
  },
  {
   "cell_type": "markdown",
   "id": "4c364a6c",
   "metadata": {},
   "source": [
    "This model is about the simplest possible Keras sequential model. It has just an input layer which takes a flattened vector of 784 pixel values, and an output layer of 10 units with softmax activation, since this is a 10 branch classification problem. Initially we will use SGD as the optimizer. The model is shown here for reference."
   ]
  },
  {
   "cell_type": "code",
   "execution_count": null,
   "id": "679f45a8",
   "metadata": {},
   "outputs": [],
   "source": [
    "\n",
    "def create_baseline_model():\n",
    "    DIGIT_CLASSES = 10\n",
    "    RESHAPED = 28 * 28 ## 784 pixesl per image\n",
    "    #build the model\n",
    "    model = tf.keras.models.Sequential()\n",
    "    model.add(keras.layers.Dense(DIGIT_CLASSES,\n",
    "                                 input_shape=(RESHAPED,),\n",
    "                                 name='dense_layer',\n",
    "                                 activation='softmax'))\n",
    "    return model"
   ]
  },
  {
   "cell_type": "code",
   "execution_count": 5,
   "id": "343a8363",
   "metadata": {},
   "outputs": [
    {
     "name": "stdout",
     "output_type": "stream",
     "text": [
      "Model: \"sequential_2\"\n",
      "_________________________________________________________________\n",
      " Layer (type)                Output Shape              Param #   \n",
      "=================================================================\n",
      " dense_layer (Dense)         (None, 10)                7850      \n",
      "                                                                 \n",
      "=================================================================\n",
      "Total params: 7,850\n",
      "Trainable params: 7,850\n",
      "Non-trainable params: 0\n",
      "_________________________________________________________________\n"
     ]
    }
   ],
   "source": [
    "%run create_baseline_model.py\n",
    "model = create_baseline_model()\n",
    "model.summary()"
   ]
  },
  {
   "cell_type": "markdown",
   "id": "cf8d9030",
   "metadata": {},
   "source": [
    "Details of training this model are in a separate notebook here: ...\n",
    "    \n",
    "The results of 5 training sessions with 60000 samples for training and evaluation on the 10000 sample test set are shown below.\n",
    "The test accuracy was about 0.922 and it was very repeatable across 5 training sessions with std = 0.000249. The average runtime was about 237 seconds. This test was using a GPU."
   ]
  },
  {
   "cell_type": "code",
   "execution_count": 4,
   "id": "d0880efc",
   "metadata": {},
   "outputs": [
    {
     "data": {
      "text/html": [
       "<div>\n",
       "<style scoped>\n",
       "    .dataframe tbody tr th:only-of-type {\n",
       "        vertical-align: middle;\n",
       "    }\n",
       "\n",
       "    .dataframe tbody tr th {\n",
       "        vertical-align: top;\n",
       "    }\n",
       "\n",
       "    .dataframe thead th {\n",
       "        text-align: right;\n",
       "    }\n",
       "</style>\n",
       "<table border=\"1\" class=\"dataframe\">\n",
       "  <thead>\n",
       "    <tr style=\"text-align: right;\">\n",
       "      <th></th>\n",
       "      <th>training_time_sec</th>\n",
       "      <th>test_accuracy</th>\n",
       "    </tr>\n",
       "  </thead>\n",
       "  <tbody>\n",
       "    <tr>\n",
       "      <th>0</th>\n",
       "      <td>233.948682</td>\n",
       "      <td>0.9223</td>\n",
       "    </tr>\n",
       "    <tr>\n",
       "      <th>1</th>\n",
       "      <td>232.309703</td>\n",
       "      <td>0.9221</td>\n",
       "    </tr>\n",
       "    <tr>\n",
       "      <th>2</th>\n",
       "      <td>240.762712</td>\n",
       "      <td>0.9222</td>\n",
       "    </tr>\n",
       "    <tr>\n",
       "      <th>3</th>\n",
       "      <td>231.556649</td>\n",
       "      <td>0.9221</td>\n",
       "    </tr>\n",
       "    <tr>\n",
       "      <th>4</th>\n",
       "      <td>245.934716</td>\n",
       "      <td>0.9227</td>\n",
       "    </tr>\n",
       "  </tbody>\n",
       "</table>\n",
       "</div>"
      ],
      "text/plain": [
       "   training_time_sec  test_accuracy\n",
       "0         233.948682         0.9223\n",
       "1         232.309703         0.9221\n",
       "2         240.762712         0.9222\n",
       "3         231.556649         0.9221\n",
       "4         245.934716         0.9227"
      ]
     },
     "metadata": {},
     "output_type": "display_data"
    },
    {
     "data": {
      "text/html": [
       "<div>\n",
       "<style scoped>\n",
       "    .dataframe tbody tr th:only-of-type {\n",
       "        vertical-align: middle;\n",
       "    }\n",
       "\n",
       "    .dataframe tbody tr th {\n",
       "        vertical-align: top;\n",
       "    }\n",
       "\n",
       "    .dataframe thead th {\n",
       "        text-align: right;\n",
       "    }\n",
       "</style>\n",
       "<table border=\"1\" class=\"dataframe\">\n",
       "  <thead>\n",
       "    <tr style=\"text-align: right;\">\n",
       "      <th></th>\n",
       "      <th>training_time_sec</th>\n",
       "      <th>test_accuracy</th>\n",
       "    </tr>\n",
       "  </thead>\n",
       "  <tbody>\n",
       "    <tr>\n",
       "      <th>count</th>\n",
       "      <td>5.000000</td>\n",
       "      <td>5.000000</td>\n",
       "    </tr>\n",
       "    <tr>\n",
       "      <th>mean</th>\n",
       "      <td>236.902493</td>\n",
       "      <td>0.922280</td>\n",
       "    </tr>\n",
       "    <tr>\n",
       "      <th>std</th>\n",
       "      <td>6.222522</td>\n",
       "      <td>0.000249</td>\n",
       "    </tr>\n",
       "    <tr>\n",
       "      <th>min</th>\n",
       "      <td>231.556649</td>\n",
       "      <td>0.922100</td>\n",
       "    </tr>\n",
       "    <tr>\n",
       "      <th>25%</th>\n",
       "      <td>232.309703</td>\n",
       "      <td>0.922100</td>\n",
       "    </tr>\n",
       "    <tr>\n",
       "      <th>50%</th>\n",
       "      <td>233.948682</td>\n",
       "      <td>0.922200</td>\n",
       "    </tr>\n",
       "    <tr>\n",
       "      <th>75%</th>\n",
       "      <td>240.762712</td>\n",
       "      <td>0.922300</td>\n",
       "    </tr>\n",
       "    <tr>\n",
       "      <th>max</th>\n",
       "      <td>245.934716</td>\n",
       "      <td>0.922700</td>\n",
       "    </tr>\n",
       "  </tbody>\n",
       "</table>\n",
       "</div>"
      ],
      "text/plain": [
       "       training_time_sec  test_accuracy\n",
       "count           5.000000       5.000000\n",
       "mean          236.902493       0.922280\n",
       "std             6.222522       0.000249\n",
       "min           231.556649       0.922100\n",
       "25%           232.309703       0.922100\n",
       "50%           233.948682       0.922200\n",
       "75%           240.762712       0.922300\n",
       "max           245.934716       0.922700"
      ]
     },
     "execution_count": 4,
     "metadata": {},
     "output_type": "execute_result"
    }
   ],
   "source": [
    "import pandas as pd\n",
    "df = pd.read_csv('data/BASELINE_DATA_2022-09-30_18_38.csv')\n",
    "display(df)\n",
    "df.describe()"
   ]
  },
  {
   "cell_type": "markdown",
   "id": "46a6d811",
   "metadata": {},
   "source": [
    "## Deeper Dense Models"
   ]
  },
  {
   "cell_type": "markdown",
   "id": "f55d285e",
   "metadata": {},
   "source": [
    "Below is the model creation function. We used this to configure from 1 to 4 hidden layers and tried 64, 128, and 192 as the number of units per hidden layer."
   ]
  },
  {
   "cell_type": "code",
   "execution_count": null,
   "id": "33a671b7",
   "metadata": {},
   "outputs": [],
   "source": [
    "def create_dense_model(hidden_layers=1, hidden_units_per_layer=128):\n",
    "    \"\"\"\n",
    "    create a keras sequential model with the specified\n",
    "    number of hidden_layers and number of units per layer\n",
    "    \"\"\"\n",
    "    DIGIT_CLASSES = 10\n",
    "    RESHAPED = 28 * 28 ## 784 pixels per image\n",
    "    model = tf.keras.models.Sequential()\n",
    "    count = 0\n",
    "    \n",
    "    \n",
    "    count += 1\n",
    "    model.add(keras.layers.Dense(units=hidden_units_per_layer,\n",
    "        input_shape=(RESHAPED,),\n",
    "        name=f'dense_layer_{count}', activation='relu'))\n",
    "    \n",
    "    for i in range(1, hidden_layers):\n",
    "        count += 1\n",
    "        model.add(keras.layers.Dense(units=hidden_units_per_layer,\n",
    "           name=f'dense_layer_{count}', activation='relu'))\n",
    "        \n",
    "    count += 1        \n",
    "    model.add(keras.layers.Dense(DIGIT_CLASSES,\n",
    "       name=f'dense_layer_{count}', activation='softmax'))\n",
    "\n",
    "    # summary of the model\n",
    "    model.summary()\n",
    "    return model"
   ]
  },
  {
   "cell_type": "markdown",
   "id": "d6ce58ca",
   "metadata": {},
   "source": [
    "The model summarys for two of these configurations are show here:"
   ]
  },
  {
   "cell_type": "code",
   "execution_count": 1,
   "id": "73887da5",
   "metadata": {},
   "outputs": [
    {
     "name": "stdout",
     "output_type": "stream",
     "text": [
      "Model: \"sequential\"\n",
      "_________________________________________________________________\n",
      " Layer (type)                Output Shape              Param #   \n",
      "=================================================================\n",
      " dense_layer_1 (Dense)       (None, 64)                50240     \n",
      "                                                                 \n",
      " dense_layer_2 (Dense)       (None, 10)                650       \n",
      "                                                                 \n",
      "=================================================================\n",
      "Total params: 50,890\n",
      "Trainable params: 50,890\n",
      "Non-trainable params: 0\n",
      "_________________________________________________________________\n"
     ]
    },
    {
     "data": {
      "text/plain": [
       "<keras.engine.sequential.Sequential at 0x1b5c8d7c910>"
      ]
     },
     "execution_count": 1,
     "metadata": {},
     "output_type": "execute_result"
    }
   ],
   "source": [
    "%run create_dense_model.py\n",
    "create_dense_model(hidden_layers=1, hidden_units_per_layer=64)"
   ]
  },
  {
   "cell_type": "code",
   "execution_count": 2,
   "id": "f7e87b72",
   "metadata": {},
   "outputs": [
    {
     "name": "stdout",
     "output_type": "stream",
     "text": [
      "Model: \"sequential_1\"\n",
      "_________________________________________________________________\n",
      " Layer (type)                Output Shape              Param #   \n",
      "=================================================================\n",
      " dense_layer_1 (Dense)       (None, 192)               150720    \n",
      "                                                                 \n",
      " dense_layer_2 (Dense)       (None, 192)               37056     \n",
      "                                                                 \n",
      " dense_layer_3 (Dense)       (None, 192)               37056     \n",
      "                                                                 \n",
      " dense_layer_4 (Dense)       (None, 192)               37056     \n",
      "                                                                 \n",
      " dense_layer_5 (Dense)       (None, 10)                1930      \n",
      "                                                                 \n",
      "=================================================================\n",
      "Total params: 263,818\n",
      "Trainable params: 263,818\n",
      "Non-trainable params: 0\n",
      "_________________________________________________________________\n"
     ]
    },
    {
     "data": {
      "text/plain": [
       "<keras.engine.sequential.Sequential at 0x1b5c8d7cbb0>"
      ]
     },
     "execution_count": 2,
     "metadata": {},
     "output_type": "execute_result"
    }
   ],
   "source": [
    "create_dense_model(hidden_layers=4, hidden_units_per_layer=192)"
   ]
  },
  {
   "cell_type": "markdown",
   "id": "181c814b",
   "metadata": {},
   "source": [
    "## Deeper Dense Model Comparisons\n",
    "\n",
    "We trained the above model with all 12 combinations of number of hidden layers {1,2,3,4} and number of units per hidden layer {64,128,192}. For each of these combinations we tried 3 variations:\n",
    "\n",
    "* Optimizer=SGD, \n",
    "* Optimizer=Adam, \n",
    "* Optimizer=Adam with a Dropout layer added after each hidden layer \n",
    "\n",
    "So 36 model variations total. Each of these was run with a training set of 50,000 images, validation set of 10,000 images, and held out test set of 10,000 images. For each run we used early stopping based on validation loss, to avoid overfitting (and avoid wasted training time). All of these runs were done on a laptop and using a GPU.\n",
    "For each run we captured the elapsed time for training and the accuracy score on the test images.\n",
    "\n",
    "All of these models were more accurate than the baseline model describe above (test accuracy = 0.922). And the test accuracy of all the models was suprisingly close in a range from 0.966  to 0.980. However there was a huge difference in training times from 10.6 seconds to 312 seconds.\n",
    "\n",
    "The best and worst models by training time and test accuracy are shown below:"
   ]
  },
  {
   "cell_type": "code",
   "execution_count": 2,
   "id": "9dae17ed",
   "metadata": {},
   "outputs": [
    {
     "data": {
      "text/html": [
       "<div>\n",
       "<style scoped>\n",
       "    .dataframe tbody tr th:only-of-type {\n",
       "        vertical-align: middle;\n",
       "    }\n",
       "\n",
       "    .dataframe tbody tr th {\n",
       "        vertical-align: top;\n",
       "    }\n",
       "\n",
       "    .dataframe thead th {\n",
       "        text-align: right;\n",
       "    }\n",
       "</style>\n",
       "<table border=\"1\" class=\"dataframe\">\n",
       "  <thead>\n",
       "    <tr style=\"text-align: right;\">\n",
       "      <th></th>\n",
       "      <th>hidden_layers</th>\n",
       "      <th>hidden_units_per_layer</th>\n",
       "      <th>elapsed_time</th>\n",
       "      <th>test_accuracy</th>\n",
       "      <th>model_type</th>\n",
       "    </tr>\n",
       "  </thead>\n",
       "  <tbody>\n",
       "    <tr>\n",
       "      <th>17</th>\n",
       "      <td>2</td>\n",
       "      <td>192</td>\n",
       "      <td>10.560391</td>\n",
       "      <td>0.9767</td>\n",
       "      <td>Adam Optimizer</td>\n",
       "    </tr>\n",
       "  </tbody>\n",
       "</table>\n",
       "</div>"
      ],
      "text/plain": [
       "   hidden_layers hidden_units_per_layer elapsed_time test_accuracy  \\\n",
       "17             2                    192    10.560391        0.9767   \n",
       "\n",
       "        model_type  \n",
       "17  Adam Optimizer  "
      ]
     },
     "metadata": {},
     "output_type": "display_data"
    },
    {
     "data": {
      "text/html": [
       "<div>\n",
       "<style scoped>\n",
       "    .dataframe tbody tr th:only-of-type {\n",
       "        vertical-align: middle;\n",
       "    }\n",
       "\n",
       "    .dataframe tbody tr th {\n",
       "        vertical-align: top;\n",
       "    }\n",
       "\n",
       "    .dataframe thead th {\n",
       "        text-align: right;\n",
       "    }\n",
       "</style>\n",
       "<table border=\"1\" class=\"dataframe\">\n",
       "  <thead>\n",
       "    <tr style=\"text-align: right;\">\n",
       "      <th></th>\n",
       "      <th>hidden_layers</th>\n",
       "      <th>hidden_units_per_layer</th>\n",
       "      <th>elapsed_time</th>\n",
       "      <th>test_accuracy</th>\n",
       "      <th>model_type</th>\n",
       "    </tr>\n",
       "  </thead>\n",
       "  <tbody>\n",
       "    <tr>\n",
       "      <th>2</th>\n",
       "      <td>1</td>\n",
       "      <td>192</td>\n",
       "      <td>311.766825</td>\n",
       "      <td>0.9762</td>\n",
       "      <td>SGD Optimizer</td>\n",
       "    </tr>\n",
       "  </tbody>\n",
       "</table>\n",
       "</div>"
      ],
      "text/plain": [
       "  hidden_layers hidden_units_per_layer elapsed_time test_accuracy  \\\n",
       "2             1                    192   311.766825        0.9762   \n",
       "\n",
       "      model_type  \n",
       "2  SGD Optimizer  "
      ]
     },
     "metadata": {},
     "output_type": "display_data"
    }
   ],
   "source": [
    "## Which model configurations had the shortest and longest training times?\n",
    "import pandas as pd\n",
    "df = pd.read_csv('data/ALL_DENSE_MODELS.csv')\n",
    "\n",
    "min_row = df.iloc[df['elapsed_time'].argmin(),:]\n",
    "display(pd.DataFrame(min_row).T)\n",
    "max_row = df.iloc[df['elapsed_time'].argmax(),:]\n",
    "display(pd.DataFrame(max_row).T)"
   ]
  },
  {
   "cell_type": "code",
   "execution_count": 4,
   "id": "ac4714dc",
   "metadata": {},
   "outputs": [
    {
     "data": {
      "text/html": [
       "<div>\n",
       "<style scoped>\n",
       "    .dataframe tbody tr th:only-of-type {\n",
       "        vertical-align: middle;\n",
       "    }\n",
       "\n",
       "    .dataframe tbody tr th {\n",
       "        vertical-align: top;\n",
       "    }\n",
       "\n",
       "    .dataframe thead th {\n",
       "        text-align: right;\n",
       "    }\n",
       "</style>\n",
       "<table border=\"1\" class=\"dataframe\">\n",
       "  <thead>\n",
       "    <tr style=\"text-align: right;\">\n",
       "      <th></th>\n",
       "      <th>hidden_layers</th>\n",
       "      <th>hidden_units_per_layer</th>\n",
       "      <th>elapsed_time</th>\n",
       "      <th>test_accuracy</th>\n",
       "      <th>model_type</th>\n",
       "    </tr>\n",
       "  </thead>\n",
       "  <tbody>\n",
       "    <tr>\n",
       "      <th>14</th>\n",
       "      <td>1</td>\n",
       "      <td>192</td>\n",
       "      <td>19.091164</td>\n",
       "      <td>0.9803</td>\n",
       "      <td>Adam Optimizer</td>\n",
       "    </tr>\n",
       "  </tbody>\n",
       "</table>\n",
       "</div>"
      ],
      "text/plain": [
       "   hidden_layers hidden_units_per_layer elapsed_time test_accuracy  \\\n",
       "14             1                    192    19.091164        0.9803   \n",
       "\n",
       "        model_type  \n",
       "14  Adam Optimizer  "
      ]
     },
     "metadata": {},
     "output_type": "display_data"
    },
    {
     "data": {
      "text/html": [
       "<div>\n",
       "<style scoped>\n",
       "    .dataframe tbody tr th:only-of-type {\n",
       "        vertical-align: middle;\n",
       "    }\n",
       "\n",
       "    .dataframe tbody tr th {\n",
       "        vertical-align: top;\n",
       "    }\n",
       "\n",
       "    .dataframe thead th {\n",
       "        text-align: right;\n",
       "    }\n",
       "</style>\n",
       "<table border=\"1\" class=\"dataframe\">\n",
       "  <thead>\n",
       "    <tr style=\"text-align: right;\">\n",
       "      <th></th>\n",
       "      <th>hidden_layers</th>\n",
       "      <th>hidden_units_per_layer</th>\n",
       "      <th>elapsed_time</th>\n",
       "      <th>test_accuracy</th>\n",
       "      <th>model_type</th>\n",
       "    </tr>\n",
       "  </thead>\n",
       "  <tbody>\n",
       "    <tr>\n",
       "      <th>9</th>\n",
       "      <td>4</td>\n",
       "      <td>64</td>\n",
       "      <td>79.026243</td>\n",
       "      <td>0.9658</td>\n",
       "      <td>SGD Optimizer</td>\n",
       "    </tr>\n",
       "  </tbody>\n",
       "</table>\n",
       "</div>"
      ],
      "text/plain": [
       "  hidden_layers hidden_units_per_layer elapsed_time test_accuracy  \\\n",
       "9             4                     64    79.026243        0.9658   \n",
       "\n",
       "      model_type  \n",
       "9  SGD Optimizer  "
      ]
     },
     "metadata": {},
     "output_type": "display_data"
    }
   ],
   "source": [
    "## Which model configuratons had the best and worst test accuracy?\n",
    "max_row = df.iloc[df['test_accuracy'].argmax(),:]\n",
    "display(pd.DataFrame(max_row).T)\n",
    "min_row = df.iloc[df['test_accuracy'].argmin(),:]\n",
    "display(pd.DataFrame(min_row).T)"
   ]
  },
  {
   "cell_type": "markdown",
   "id": "094bf15b",
   "metadata": {},
   "source": [
    "## CNN Models"
   ]
  },
  {
   "cell_type": "code",
   "execution_count": null,
   "id": "a20c6915",
   "metadata": {},
   "outputs": [],
   "source": []
  }
 ],
 "metadata": {
  "kernelspec": {
   "display_name": "Python 3 (ipykernel)",
   "language": "python",
   "name": "python3"
  },
  "language_info": {
   "codemirror_mode": {
    "name": "ipython",
    "version": 3
   },
   "file_extension": ".py",
   "mimetype": "text/x-python",
   "name": "python",
   "nbconvert_exporter": "python",
   "pygments_lexer": "ipython3",
   "version": "3.9.12"
  }
 },
 "nbformat": 4,
 "nbformat_minor": 5
}
