{
 "cells": [
  {
   "cell_type": "markdown",
   "id": "a639d6ec",
   "metadata": {},
   "source": [
    "# Experiments with Model Architecture using the MNIST Digits Data Set"
   ]
  },
  {
   "cell_type": "markdown",
   "id": "212fd559",
   "metadata": {},
   "source": [
    "Project Repository: https://github.com/albert-kepner/Week6_DL_FinalProject"
   ]
  },
  {
   "cell_type": "markdown",
   "id": "6854d4b1",
   "metadata": {},
   "source": [
    "\n",
    "For this project we are building a number of different models to classify the handwritten digits in the MNIST data set. This is a supervised learning multi-class classification problem. The performance of various models is compared for both accurcy on the test data and training run time. We also compared some of the models using successively smaller training samples to see how accuracy changes with less data.\n",
    "\n"
   ]
  },
  {
   "cell_type": "markdown",
   "id": "f08e9c9f",
   "metadata": {},
   "source": [
    "## Exploratory Data Analysis"
   ]
  },
  {
   "cell_type": "markdown",
   "id": "83889375",
   "metadata": {},
   "source": [
    "This is a well-known data set of monochrome 28 by 28 pixel images of single handwritten digits 0-9. The data set is included in Keras. It is organized as 60,000 training images and 10,000 test images. No data cleaning is needed other than scaling the pixel values as floats in the range [0-1).\n",
    "\n",
    "The functions we used to load the data set and more details are in a separate notbook here:\n",
    "\n",
    "https://github.com/albert-kepner/Week6_DL_FinalProject/blob/master/Exploratory_Data_Analysis.ipynb"
   ]
  },
  {
   "cell_type": "markdown",
   "id": "7cd92e41",
   "metadata": {},
   "source": [
    "## Model Architectures\n",
    "\n",
    "We will be comparing three types of models Keras sequential models for this classification problem:\n",
    "\n",
    "1. Baseline Model -- Simple dense network with no hidden layers\n",
    "\n",
    "1. Deeper Dense models -- comparing fully connected dense networks with 1, 2, 3, or 4 hidden layers and also varying the number of hidden units per layer.\n",
    "\n",
    "1. Four variations on a convolutional neural network or CNN."
   ]
  },
  {
   "cell_type": "markdown",
   "id": "3997fdad",
   "metadata": {},
   "source": [
    "## Baseline Dense Model (no hidden layers)"
   ]
  },
  {
   "cell_type": "markdown",
   "id": "4c364a6c",
   "metadata": {},
   "source": [
    "This model is about the simplest possible Keras sequential model. It has just an input layer which takes a flattened vector of 784 pixel values, and an output layer of 10 units with softmax activation, since this is a 10 branch classification problem. Initially we will use SGD as the optimizer. The model is shown here for reference."
   ]
  },
  {
   "cell_type": "code",
   "execution_count": 1,
   "id": "679f45a8",
   "metadata": {},
   "outputs": [],
   "source": [
    "\n",
    "def create_baseline_model():\n",
    "    DIGIT_CLASSES = 10\n",
    "    RESHAPED = 28 * 28 ## 784 pixesl per image\n",
    "    #build the model\n",
    "    model = tf.keras.models.Sequential()\n",
    "    model.add(keras.layers.Dense(DIGIT_CLASSES,\n",
    "                                 input_shape=(RESHAPED,),\n",
    "                                 name='dense_layer',\n",
    "                                 activation='softmax'))\n",
    "    return model"
   ]
  },
  {
   "cell_type": "code",
   "execution_count": 2,
   "id": "343a8363",
   "metadata": {},
   "outputs": [
    {
     "name": "stdout",
     "output_type": "stream",
     "text": [
      "Model: \"sequential\"\n",
      "_________________________________________________________________\n",
      " Layer (type)                Output Shape              Param #   \n",
      "=================================================================\n",
      " dense_layer (Dense)         (None, 10)                7850      \n",
      "                                                                 \n",
      "=================================================================\n",
      "Total params: 7,850\n",
      "Trainable params: 7,850\n",
      "Non-trainable params: 0\n",
      "_________________________________________________________________\n"
     ]
    }
   ],
   "source": [
    "%run create_baseline_model.py\n",
    "model = create_baseline_model()\n",
    "model.summary()"
   ]
  },
  {
   "cell_type": "markdown",
   "id": "cf8d9030",
   "metadata": {},
   "source": [
    "Details of training this model are in a separate notebook here:\n",
    "\n",
    "https://github.com/albert-kepner/Week6_DL_FinalProject/blob/master/Baseline_Dense_Model.ipynb\n",
    "    \n",
    "The results of 5 training sessions with 60000 samples for training and evaluation on the 10000 sample test set are shown below.\n",
    "The test accuracy was about 0.922 and it was very repeatable across 5 training sessions with std = 0.000249. The average runtime was about 237 seconds. This test was using a GPU."
   ]
  },
  {
   "cell_type": "code",
   "execution_count": 3,
   "id": "d0880efc",
   "metadata": {},
   "outputs": [
    {
     "data": {
      "text/html": [
       "<div>\n",
       "<style scoped>\n",
       "    .dataframe tbody tr th:only-of-type {\n",
       "        vertical-align: middle;\n",
       "    }\n",
       "\n",
       "    .dataframe tbody tr th {\n",
       "        vertical-align: top;\n",
       "    }\n",
       "\n",
       "    .dataframe thead th {\n",
       "        text-align: right;\n",
       "    }\n",
       "</style>\n",
       "<table border=\"1\" class=\"dataframe\">\n",
       "  <thead>\n",
       "    <tr style=\"text-align: right;\">\n",
       "      <th></th>\n",
       "      <th>training_time_sec</th>\n",
       "      <th>test_accuracy</th>\n",
       "    </tr>\n",
       "  </thead>\n",
       "  <tbody>\n",
       "    <tr>\n",
       "      <th>0</th>\n",
       "      <td>233.948682</td>\n",
       "      <td>0.9223</td>\n",
       "    </tr>\n",
       "    <tr>\n",
       "      <th>1</th>\n",
       "      <td>232.309703</td>\n",
       "      <td>0.9221</td>\n",
       "    </tr>\n",
       "    <tr>\n",
       "      <th>2</th>\n",
       "      <td>240.762712</td>\n",
       "      <td>0.9222</td>\n",
       "    </tr>\n",
       "    <tr>\n",
       "      <th>3</th>\n",
       "      <td>231.556649</td>\n",
       "      <td>0.9221</td>\n",
       "    </tr>\n",
       "    <tr>\n",
       "      <th>4</th>\n",
       "      <td>245.934716</td>\n",
       "      <td>0.9227</td>\n",
       "    </tr>\n",
       "  </tbody>\n",
       "</table>\n",
       "</div>"
      ],
      "text/plain": [
       "   training_time_sec  test_accuracy\n",
       "0         233.948682         0.9223\n",
       "1         232.309703         0.9221\n",
       "2         240.762712         0.9222\n",
       "3         231.556649         0.9221\n",
       "4         245.934716         0.9227"
      ]
     },
     "metadata": {},
     "output_type": "display_data"
    },
    {
     "data": {
      "text/html": [
       "<div>\n",
       "<style scoped>\n",
       "    .dataframe tbody tr th:only-of-type {\n",
       "        vertical-align: middle;\n",
       "    }\n",
       "\n",
       "    .dataframe tbody tr th {\n",
       "        vertical-align: top;\n",
       "    }\n",
       "\n",
       "    .dataframe thead th {\n",
       "        text-align: right;\n",
       "    }\n",
       "</style>\n",
       "<table border=\"1\" class=\"dataframe\">\n",
       "  <thead>\n",
       "    <tr style=\"text-align: right;\">\n",
       "      <th></th>\n",
       "      <th>training_time_sec</th>\n",
       "      <th>test_accuracy</th>\n",
       "    </tr>\n",
       "  </thead>\n",
       "  <tbody>\n",
       "    <tr>\n",
       "      <th>count</th>\n",
       "      <td>5.000000</td>\n",
       "      <td>5.000000</td>\n",
       "    </tr>\n",
       "    <tr>\n",
       "      <th>mean</th>\n",
       "      <td>236.902493</td>\n",
       "      <td>0.922280</td>\n",
       "    </tr>\n",
       "    <tr>\n",
       "      <th>std</th>\n",
       "      <td>6.222522</td>\n",
       "      <td>0.000249</td>\n",
       "    </tr>\n",
       "    <tr>\n",
       "      <th>min</th>\n",
       "      <td>231.556649</td>\n",
       "      <td>0.922100</td>\n",
       "    </tr>\n",
       "    <tr>\n",
       "      <th>25%</th>\n",
       "      <td>232.309703</td>\n",
       "      <td>0.922100</td>\n",
       "    </tr>\n",
       "    <tr>\n",
       "      <th>50%</th>\n",
       "      <td>233.948682</td>\n",
       "      <td>0.922200</td>\n",
       "    </tr>\n",
       "    <tr>\n",
       "      <th>75%</th>\n",
       "      <td>240.762712</td>\n",
       "      <td>0.922300</td>\n",
       "    </tr>\n",
       "    <tr>\n",
       "      <th>max</th>\n",
       "      <td>245.934716</td>\n",
       "      <td>0.922700</td>\n",
       "    </tr>\n",
       "  </tbody>\n",
       "</table>\n",
       "</div>"
      ],
      "text/plain": [
       "       training_time_sec  test_accuracy\n",
       "count           5.000000       5.000000\n",
       "mean          236.902493       0.922280\n",
       "std             6.222522       0.000249\n",
       "min           231.556649       0.922100\n",
       "25%           232.309703       0.922100\n",
       "50%           233.948682       0.922200\n",
       "75%           240.762712       0.922300\n",
       "max           245.934716       0.922700"
      ]
     },
     "execution_count": 3,
     "metadata": {},
     "output_type": "execute_result"
    }
   ],
   "source": [
    "import pandas as pd\n",
    "df = pd.read_csv('data/BASELINE_DATA_2022-09-30_18_38.csv')\n",
    "display(df)\n",
    "df.describe()"
   ]
  },
  {
   "cell_type": "markdown",
   "id": "46a6d811",
   "metadata": {},
   "source": [
    "## Deeper Dense Models"
   ]
  },
  {
   "cell_type": "markdown",
   "id": "f55d285e",
   "metadata": {},
   "source": [
    "Below is the model creation function. We used this to configure from 1 to 4 hidden layers and tried 64, 128, and 192 as the number of units per hidden layer."
   ]
  },
  {
   "cell_type": "code",
   "execution_count": 4,
   "id": "33a671b7",
   "metadata": {},
   "outputs": [],
   "source": [
    "def create_dense_model(hidden_layers=1, hidden_units_per_layer=128):\n",
    "    \"\"\"\n",
    "    create a keras sequential model with the specified\n",
    "    number of hidden_layers and number of units per layer\n",
    "    \"\"\"\n",
    "    DIGIT_CLASSES = 10\n",
    "    RESHAPED = 28 * 28 ## 784 pixels per image\n",
    "    model = tf.keras.models.Sequential()\n",
    "    count = 0\n",
    "    \n",
    "    \n",
    "    count += 1\n",
    "    model.add(keras.layers.Dense(units=hidden_units_per_layer,\n",
    "        input_shape=(RESHAPED,),\n",
    "        name=f'dense_layer_{count}', activation='relu'))\n",
    "    \n",
    "    for i in range(1, hidden_layers):\n",
    "        count += 1\n",
    "        model.add(keras.layers.Dense(units=hidden_units_per_layer,\n",
    "           name=f'dense_layer_{count}', activation='relu'))\n",
    "        \n",
    "    count += 1        \n",
    "    model.add(keras.layers.Dense(DIGIT_CLASSES,\n",
    "       name=f'dense_layer_{count}', activation='softmax'))\n",
    "\n",
    "    # summary of the model\n",
    "    model.summary()\n",
    "    return model"
   ]
  },
  {
   "cell_type": "markdown",
   "id": "d6ce58ca",
   "metadata": {},
   "source": [
    "The model summarys for two of these configurations are show here:"
   ]
  },
  {
   "cell_type": "code",
   "execution_count": 5,
   "id": "73887da5",
   "metadata": {},
   "outputs": [
    {
     "name": "stdout",
     "output_type": "stream",
     "text": [
      "Model: \"sequential_1\"\n",
      "_________________________________________________________________\n",
      " Layer (type)                Output Shape              Param #   \n",
      "=================================================================\n",
      " dense_layer_1 (Dense)       (None, 64)                50240     \n",
      "                                                                 \n",
      " dense_layer_2 (Dense)       (None, 10)                650       \n",
      "                                                                 \n",
      "=================================================================\n",
      "Total params: 50,890\n",
      "Trainable params: 50,890\n",
      "Non-trainable params: 0\n",
      "_________________________________________________________________\n"
     ]
    },
    {
     "data": {
      "text/plain": [
       "<keras.engine.sequential.Sequential at 0x287b2e6c130>"
      ]
     },
     "execution_count": 5,
     "metadata": {},
     "output_type": "execute_result"
    }
   ],
   "source": [
    "%run create_dense_model.py\n",
    "create_dense_model(hidden_layers=1, hidden_units_per_layer=64)"
   ]
  },
  {
   "cell_type": "code",
   "execution_count": 6,
   "id": "f7e87b72",
   "metadata": {},
   "outputs": [
    {
     "name": "stdout",
     "output_type": "stream",
     "text": [
      "Model: \"sequential_2\"\n",
      "_________________________________________________________________\n",
      " Layer (type)                Output Shape              Param #   \n",
      "=================================================================\n",
      " dense_layer_1 (Dense)       (None, 192)               150720    \n",
      "                                                                 \n",
      " dense_layer_2 (Dense)       (None, 192)               37056     \n",
      "                                                                 \n",
      " dense_layer_3 (Dense)       (None, 192)               37056     \n",
      "                                                                 \n",
      " dense_layer_4 (Dense)       (None, 192)               37056     \n",
      "                                                                 \n",
      " dense_layer_5 (Dense)       (None, 10)                1930      \n",
      "                                                                 \n",
      "=================================================================\n",
      "Total params: 263,818\n",
      "Trainable params: 263,818\n",
      "Non-trainable params: 0\n",
      "_________________________________________________________________\n"
     ]
    },
    {
     "data": {
      "text/plain": [
       "<keras.engine.sequential.Sequential at 0x287c43a4310>"
      ]
     },
     "execution_count": 6,
     "metadata": {},
     "output_type": "execute_result"
    }
   ],
   "source": [
    "create_dense_model(hidden_layers=4, hidden_units_per_layer=192)"
   ]
  },
  {
   "cell_type": "markdown",
   "id": "181c814b",
   "metadata": {},
   "source": [
    "## Deeper Dense Model Comparisons\n",
    "\n",
    "We trained the above model with all 12 combinations of number of hidden layers {1,2,3,4} and number of units per hidden layer {64,128,192}. For each of these combinations we tried 3 variations:\n",
    "\n",
    "* Optimizer=SGD, \n",
    "* Optimizer=Adam, \n",
    "* Optimizer=Adam with a Dropout layer added after each hidden layer \n",
    "\n",
    "So 36 model variations total. Each of these was run with a training set of 50,000 images, validation set of 10,000 images, and held out test set of 10,000 images. For each run we used early stopping based on validation loss, to avoid overfitting (and avoid wasted training time). All of these runs were done on a laptop and using a GPU.\n",
    "For each run we captured the elapsed time for training and the accuracy score on the test images.\n",
    "\n",
    "All of these models were more accurate than the baseline model describe above (test accuracy = 0.922). And the test accuracy of all the models was suprisingly close in a range from 0.966  to 0.980. However there was a huge difference in training times from 10.6 seconds to 312 seconds.\n",
    "\n",
    "The best and worst models by training time and test accuracy are shown below:"
   ]
  },
  {
   "cell_type": "code",
   "execution_count": 7,
   "id": "9dae17ed",
   "metadata": {},
   "outputs": [
    {
     "data": {
      "text/html": [
       "<div>\n",
       "<style scoped>\n",
       "    .dataframe tbody tr th:only-of-type {\n",
       "        vertical-align: middle;\n",
       "    }\n",
       "\n",
       "    .dataframe tbody tr th {\n",
       "        vertical-align: top;\n",
       "    }\n",
       "\n",
       "    .dataframe thead th {\n",
       "        text-align: right;\n",
       "    }\n",
       "</style>\n",
       "<table border=\"1\" class=\"dataframe\">\n",
       "  <thead>\n",
       "    <tr style=\"text-align: right;\">\n",
       "      <th></th>\n",
       "      <th>hidden_layers</th>\n",
       "      <th>hidden_units_per_layer</th>\n",
       "      <th>elapsed_time</th>\n",
       "      <th>test_accuracy</th>\n",
       "      <th>model_type</th>\n",
       "    </tr>\n",
       "  </thead>\n",
       "  <tbody>\n",
       "    <tr>\n",
       "      <th>17</th>\n",
       "      <td>2</td>\n",
       "      <td>192</td>\n",
       "      <td>10.560391</td>\n",
       "      <td>0.9767</td>\n",
       "      <td>Adam Optimizer</td>\n",
       "    </tr>\n",
       "  </tbody>\n",
       "</table>\n",
       "</div>"
      ],
      "text/plain": [
       "   hidden_layers hidden_units_per_layer elapsed_time test_accuracy  \\\n",
       "17             2                    192    10.560391        0.9767   \n",
       "\n",
       "        model_type  \n",
       "17  Adam Optimizer  "
      ]
     },
     "metadata": {},
     "output_type": "display_data"
    },
    {
     "data": {
      "text/html": [
       "<div>\n",
       "<style scoped>\n",
       "    .dataframe tbody tr th:only-of-type {\n",
       "        vertical-align: middle;\n",
       "    }\n",
       "\n",
       "    .dataframe tbody tr th {\n",
       "        vertical-align: top;\n",
       "    }\n",
       "\n",
       "    .dataframe thead th {\n",
       "        text-align: right;\n",
       "    }\n",
       "</style>\n",
       "<table border=\"1\" class=\"dataframe\">\n",
       "  <thead>\n",
       "    <tr style=\"text-align: right;\">\n",
       "      <th></th>\n",
       "      <th>hidden_layers</th>\n",
       "      <th>hidden_units_per_layer</th>\n",
       "      <th>elapsed_time</th>\n",
       "      <th>test_accuracy</th>\n",
       "      <th>model_type</th>\n",
       "    </tr>\n",
       "  </thead>\n",
       "  <tbody>\n",
       "    <tr>\n",
       "      <th>2</th>\n",
       "      <td>1</td>\n",
       "      <td>192</td>\n",
       "      <td>311.766825</td>\n",
       "      <td>0.9762</td>\n",
       "      <td>SGD Optimizer</td>\n",
       "    </tr>\n",
       "  </tbody>\n",
       "</table>\n",
       "</div>"
      ],
      "text/plain": [
       "  hidden_layers hidden_units_per_layer elapsed_time test_accuracy  \\\n",
       "2             1                    192   311.766825        0.9762   \n",
       "\n",
       "      model_type  \n",
       "2  SGD Optimizer  "
      ]
     },
     "metadata": {},
     "output_type": "display_data"
    }
   ],
   "source": [
    "## Which model configurations had the shortest and longest training times?\n",
    "import pandas as pd\n",
    "df = pd.read_csv('data/ALL_DENSE_MODELS.csv')\n",
    "\n",
    "min_row = df.iloc[df['elapsed_time'].argmin(),:]\n",
    "display(pd.DataFrame(min_row).T)\n",
    "max_row = df.iloc[df['elapsed_time'].argmax(),:]\n",
    "display(pd.DataFrame(max_row).T)"
   ]
  },
  {
   "cell_type": "code",
   "execution_count": 8,
   "id": "3f2f953c",
   "metadata": {},
   "outputs": [
    {
     "data": {
      "text/html": [
       "<div>\n",
       "<style scoped>\n",
       "    .dataframe tbody tr th:only-of-type {\n",
       "        vertical-align: middle;\n",
       "    }\n",
       "\n",
       "    .dataframe tbody tr th {\n",
       "        vertical-align: top;\n",
       "    }\n",
       "\n",
       "    .dataframe thead th {\n",
       "        text-align: right;\n",
       "    }\n",
       "</style>\n",
       "<table border=\"1\" class=\"dataframe\">\n",
       "  <thead>\n",
       "    <tr style=\"text-align: right;\">\n",
       "      <th></th>\n",
       "      <th>hidden_layers</th>\n",
       "      <th>hidden_units_per_layer</th>\n",
       "      <th>elapsed_time</th>\n",
       "      <th>test_accuracy</th>\n",
       "      <th>model_type</th>\n",
       "    </tr>\n",
       "  </thead>\n",
       "  <tbody>\n",
       "    <tr>\n",
       "      <th>14</th>\n",
       "      <td>1</td>\n",
       "      <td>192</td>\n",
       "      <td>19.091164</td>\n",
       "      <td>0.9803</td>\n",
       "      <td>Adam Optimizer</td>\n",
       "    </tr>\n",
       "  </tbody>\n",
       "</table>\n",
       "</div>"
      ],
      "text/plain": [
       "   hidden_layers hidden_units_per_layer elapsed_time test_accuracy  \\\n",
       "14             1                    192    19.091164        0.9803   \n",
       "\n",
       "        model_type  \n",
       "14  Adam Optimizer  "
      ]
     },
     "metadata": {},
     "output_type": "display_data"
    },
    {
     "data": {
      "text/html": [
       "<div>\n",
       "<style scoped>\n",
       "    .dataframe tbody tr th:only-of-type {\n",
       "        vertical-align: middle;\n",
       "    }\n",
       "\n",
       "    .dataframe tbody tr th {\n",
       "        vertical-align: top;\n",
       "    }\n",
       "\n",
       "    .dataframe thead th {\n",
       "        text-align: right;\n",
       "    }\n",
       "</style>\n",
       "<table border=\"1\" class=\"dataframe\">\n",
       "  <thead>\n",
       "    <tr style=\"text-align: right;\">\n",
       "      <th></th>\n",
       "      <th>hidden_layers</th>\n",
       "      <th>hidden_units_per_layer</th>\n",
       "      <th>elapsed_time</th>\n",
       "      <th>test_accuracy</th>\n",
       "      <th>model_type</th>\n",
       "    </tr>\n",
       "  </thead>\n",
       "  <tbody>\n",
       "    <tr>\n",
       "      <th>9</th>\n",
       "      <td>4</td>\n",
       "      <td>64</td>\n",
       "      <td>79.026243</td>\n",
       "      <td>0.9658</td>\n",
       "      <td>SGD Optimizer</td>\n",
       "    </tr>\n",
       "  </tbody>\n",
       "</table>\n",
       "</div>"
      ],
      "text/plain": [
       "  hidden_layers hidden_units_per_layer elapsed_time test_accuracy  \\\n",
       "9             4                     64    79.026243        0.9658   \n",
       "\n",
       "      model_type  \n",
       "9  SGD Optimizer  "
      ]
     },
     "metadata": {},
     "output_type": "display_data"
    }
   ],
   "source": [
    "## Which model configuratons had the best and worst test accuracy?\n",
    "max_row = df.iloc[df['test_accuracy'].argmax(),:]\n",
    "display(pd.DataFrame(max_row).T)\n",
    "min_row = df.iloc[df['test_accuracy'].argmin(),:]\n",
    "display(pd.DataFrame(min_row).T)"
   ]
  },
  {
   "cell_type": "markdown",
   "id": "06afa20e",
   "metadata": {},
   "source": [
    "More details summarizing model performance of the 36 configurations are here:\n",
    "    \n",
    "https://github.com/albert-kepner/Week6_DL_FinalProject/blob/master/Deeper_Dense_Models_Comparison.ipynb    "
   ]
  },
  {
   "cell_type": "markdown",
   "id": "1f56b1e4",
   "metadata": {},
   "source": [
    "Notebooks used to train each type of dense model are here:\n",
    "    \n",
    "* https://github.com/albert-kepner/Week6_DL_FinalProject/blob/master/Deeper_Dense_Models_SGD.ipynb\n",
    "* https://github.com/albert-kepner/Week6_DL_FinalProject/blob/master/Deeper_Dense_Models_Adam.ipynb\n",
    "* https://github.com/albert-kepner/Week6_DL_FinalProject/blob/master/Deeper_Dense_Models_Adam_Dropout.ipynb"
   ]
  },
  {
   "cell_type": "markdown",
   "id": "094bf15b",
   "metadata": {},
   "source": [
    "## CNN Models"
   ]
  },
  {
   "cell_type": "markdown",
   "id": "0f1b3f13",
   "metadata": {},
   "source": [
    "We have compared training time and test accuracy for four variations of a CNN model on this data set.\n",
    "\n",
    "* Model 1 -- We started with a version of a LeNet CNN from <ins>Deep Learning with Tensorflow 2 and Keras, 2nd Edition</ins> (Reference 3) This model has an input layer which takes 28 by 28 by 1 channel images. It has two Convolution2D layers with (5,5) kernels, interleaved with two MaxPooling2D layers with pool size (2, 2) and strides (2, 2). The Convolution2D layers have valid padding, which means that these layers reduce the output image size by 4 in each dimension. The MaxPooling2D layers reduce the output image size by a factor of 2 in each dimension. Therefore successive layers have dimension sizes as follows:\n",
    "    - (28 by 28 by 1) input layer\n",
    "    - (24 by 24 by 20) from Convolution2D with 20 units\n",
    "    - (12 by 12 by 20) from MaxPooling2D\n",
    "    - (8 by 8 by 50) from Convolutin2D with 50 units\n",
    "    - (4 by 4 by 50) from MaxPooling2D\n",
    "    - Flatten layer 800 inputs to next layer\n",
    "    - Dense layer 500 units\n",
    "    - Softmax layer 10 units\n",
    "* Model 1 has 431,080 trainable parameters according to the Keras summary below.\n",
    "    \n",
    "* Model 2 -- From Model 1 changed the Convolution2D layers to use (3, 3) kernels and same paddding. The layers work out as follows:\n",
    "    - (28 by 28 by 1) input layer\n",
    "    - (28 by 28 by 40) from Convolution2D\n",
    "    - (14 by 14 by 40) from MaxPooling2D\n",
    "    - (14 by 14 by 50) from Convolution2D\n",
    "    - (7 by 7 by 50) from MaxPooling2d\n",
    "    - Flatten layer 2450 inputs to next layer\n",
    "    - Dense layer 500 units\n",
    "    - Softmax layer 10 units\n",
    "* Model 2 has 1,248,960 trainable parameters, which is more than Model 1 because the successive layers do not reduce the dimensions as much.\n",
    "\n",
    "* Model 3 -- From Model 2, added an additional Convolution2D layer with (3,3) kernel and, valid padding, after the last max pooling layer. This layer reduces the vertical and horizontal dimension by 2 from 7 by 7 to 5 by 5. The layers work out as follows:\n",
    "    - (28 by 28 by 1) input layer\n",
    "    - (28 by 28 by 40) from Convolution2D\n",
    "    - (14 by 14 by 40) from MaxPooling2D\n",
    "    - (14 by 14 by 50) from Convolution2D\n",
    "    - (7 by 7 by 50) from MaxPooling2d\n",
    "    - (5 by 5 by 50) from Convolution2D\n",
    "    - Flatten layer 1250 inputs to next layer\n",
    "    - Dense layer 500 units\n",
    "    - Softmax layer 10 units\n",
    "* Model 3 has 671,510 trainable parameters which is less than Model 2 because of the reduced dimension passed to the first dense layer.\n",
    "\n",
    "* Model 4 -- This is a variation from Model 1 which had 2 Convolution2D layers with 5 by 5 kernels and valid padding. In this model. In this model, each of the original Convolution2D layers is replaced by two Convolution2 layers with 3 by 3 kernels and valid padding. The two Convolution2D layers with 3 by 3 kernels have the same effect on horizontal and vertical dimensions as a single 5 by 5 kernel layer. Each of two 3 by 3 kernel layers reduces vetical and horizontal dimensions by 2. Therfore the layers work out as follows:\n",
    "    - (28 by 28 by 1) input layer\n",
    "    - (26 by 26 by 20) from Convolution2D with 20 units\n",
    "    - (24 by 24 by 40) from Convolution2D with 50 units\n",
    "    - (12 by 12 by 20) from MaxPooling2D\n",
    "    - (10 by 10 by 50) from Convolutin2D with 50 units\n",
    "    - (8 by 8 by 50) from Convolutin2D with 50 units\n",
    "    - (4 by 4 by 50) from MaxPooling2D\n",
    "    - Flatten layer 800 inputs to next layer\n",
    "    - Dense layer 500 units\n",
    "    - Softmax layer 10 units\n",
    "* Model 4 has 459,860 trainable parameters which is similar to Model 1 with 431,080.\n",
    "\n",
    "\n",
    "Functions to define the 4 models and a Keras summary() of each model follow:"
   ]
  },
  {
   "cell_type": "code",
   "execution_count": 9,
   "id": "727d57e8",
   "metadata": {},
   "outputs": [],
   "source": [
    "import tensorflow as tf\n",
    "from tensorflow import keras\n",
    "from tensorflow.keras import datasets, layers, models, optimizers"
   ]
  },
  {
   "cell_type": "code",
   "execution_count": 10,
   "id": "929c3e97",
   "metadata": {},
   "outputs": [
    {
     "name": "stdout",
     "output_type": "stream",
     "text": [
      "Model: \"sequential_3\"\n",
      "_________________________________________________________________\n",
      " Layer (type)                Output Shape              Param #   \n",
      "=================================================================\n",
      " conv2d (Conv2D)             (None, 24, 24, 20)        520       \n",
      "                                                                 \n",
      " max_pooling2d (MaxPooling2D  (None, 12, 12, 20)       0         \n",
      " )                                                               \n",
      "                                                                 \n",
      " conv2d_1 (Conv2D)           (None, 8, 8, 50)          25050     \n",
      "                                                                 \n",
      " max_pooling2d_1 (MaxPooling  (None, 4, 4, 50)         0         \n",
      " 2D)                                                             \n",
      "                                                                 \n",
      " flatten (Flatten)           (None, 800)               0         \n",
      "                                                                 \n",
      " dense (Dense)               (None, 500)               400500    \n",
      "                                                                 \n",
      " dense_1 (Dense)             (None, 10)                5010      \n",
      "                                                                 \n",
      "=================================================================\n",
      "Total params: 431,080\n",
      "Trainable params: 431,080\n",
      "Non-trainable params: 0\n",
      "_________________________________________________________________\n"
     ]
    }
   ],
   "source": [
    "def create_CNN_Model1():\n",
    "    DIGIT_CLASSES = 10\n",
    "    IMG_ROWS, IMG_COLS = 28, 28 # input image dimensions\n",
    "    INPUT_SHAPE = (IMG_ROWS, IMG_COLS, 1)\n",
    "    model = models.Sequential()\n",
    "    # CONV => RELU => POOL\n",
    "    model.add(layers.Convolution2D(20, (5, 5), activation='relu',\n",
    "        input_shape=INPUT_SHAPE))\n",
    "    model.add(layers.MaxPooling2D(pool_size=(2, 2), strides=(2, 2)))\n",
    "    # CONV => RELU => POOL\n",
    "    model.add(layers.Convolution2D(50, (5, 5), activation='relu'))\n",
    "    model.add(layers.MaxPooling2D(pool_size=(2, 2), strides=(2, 2)))\n",
    "    # Flatten => RELU layers\n",
    "    model.add(layers.Flatten())\n",
    "    model.add(layers.Dense(500, activation='relu'))\n",
    "    # a softmax classifier\n",
    "    model.add(layers.Dense(DIGIT_CLASSES, activation=\"softmax\"))\n",
    "    return model\n",
    "  \n",
    "model1 = create_CNN_Model1()\n",
    "model1.summary()"
   ]
  },
  {
   "cell_type": "code",
   "execution_count": 11,
   "id": "09a654e6",
   "metadata": {},
   "outputs": [
    {
     "name": "stdout",
     "output_type": "stream",
     "text": [
      "Model: \"sequential_4\"\n",
      "_________________________________________________________________\n",
      " Layer (type)                Output Shape              Param #   \n",
      "=================================================================\n",
      " conv2d_2 (Conv2D)           (None, 28, 28, 40)        400       \n",
      "                                                                 \n",
      " max_pooling2d_2 (MaxPooling  (None, 14, 14, 40)       0         \n",
      " 2D)                                                             \n",
      "                                                                 \n",
      " conv2d_3 (Conv2D)           (None, 14, 14, 50)        18050     \n",
      "                                                                 \n",
      " max_pooling2d_3 (MaxPooling  (None, 7, 7, 50)         0         \n",
      " 2D)                                                             \n",
      "                                                                 \n",
      " flatten_1 (Flatten)         (None, 2450)              0         \n",
      "                                                                 \n",
      " dense_2 (Dense)             (None, 500)               1225500   \n",
      "                                                                 \n",
      " dense_3 (Dense)             (None, 10)                5010      \n",
      "                                                                 \n",
      "=================================================================\n",
      "Total params: 1,248,960\n",
      "Trainable params: 1,248,960\n",
      "Non-trainable params: 0\n",
      "_________________________________________________________________\n"
     ]
    }
   ],
   "source": [
    "def create_CNN_Model2():\n",
    "    DIGIT_CLASSES = 10\n",
    "    IMG_ROWS, IMG_COLS = 28, 28 # input image dimensions\n",
    "    INPUT_SHAPE = (IMG_ROWS, IMG_COLS, 1)\n",
    "    model = models.Sequential()\n",
    "    # CONV => RELU => POOL\n",
    "    model.add(layers.Convolution2D(40, (3, 3), activation='relu', padding='same',\n",
    "        input_shape=INPUT_SHAPE))\n",
    "    model.add(layers.MaxPooling2D(pool_size=(2, 2), strides=(2, 2)))\n",
    "    # CONV => RELU => POOL\n",
    "    model.add(layers.Convolution2D(50, (3, 3), activation='relu', padding='same'))\n",
    "    model.add(layers.MaxPooling2D(pool_size=(2, 2), strides=(2, 2)))\n",
    "    # Flatten => RELU layers\n",
    "    model.add(layers.Flatten())\n",
    "    model.add(layers.Dense(500, activation='relu'))\n",
    "    # a softmax classifier\n",
    "    model.add(layers.Dense(DIGIT_CLASSES, activation=\"softmax\"))\n",
    "    return model\n",
    "\n",
    "model2 = create_CNN_Model2()\n",
    "model2.summary()"
   ]
  },
  {
   "cell_type": "code",
   "execution_count": 12,
   "id": "242c0d78",
   "metadata": {},
   "outputs": [
    {
     "name": "stdout",
     "output_type": "stream",
     "text": [
      "Model: \"sequential_5\"\n",
      "_________________________________________________________________\n",
      " Layer (type)                Output Shape              Param #   \n",
      "=================================================================\n",
      " conv2d_4 (Conv2D)           (None, 28, 28, 40)        400       \n",
      "                                                                 \n",
      " max_pooling2d_4 (MaxPooling  (None, 14, 14, 40)       0         \n",
      " 2D)                                                             \n",
      "                                                                 \n",
      " conv2d_5 (Conv2D)           (None, 14, 14, 50)        18050     \n",
      "                                                                 \n",
      " max_pooling2d_5 (MaxPooling  (None, 7, 7, 50)         0         \n",
      " 2D)                                                             \n",
      "                                                                 \n",
      " conv2d_6 (Conv2D)           (None, 5, 5, 50)          22550     \n",
      "                                                                 \n",
      " flatten_2 (Flatten)         (None, 1250)              0         \n",
      "                                                                 \n",
      " dense_4 (Dense)             (None, 500)               625500    \n",
      "                                                                 \n",
      " dense_5 (Dense)             (None, 10)                5010      \n",
      "                                                                 \n",
      "=================================================================\n",
      "Total params: 671,510\n",
      "Trainable params: 671,510\n",
      "Non-trainable params: 0\n",
      "_________________________________________________________________\n"
     ]
    }
   ],
   "source": [
    "def create_CNN_Model3():\n",
    "    DIGIT_CLASSES = 10\n",
    "    IMG_ROWS, IMG_COLS = 28, 28 # input image dimensions\n",
    "    INPUT_SHAPE = (IMG_ROWS, IMG_COLS, 1)\n",
    "    model = models.Sequential()\n",
    "    # CONV => RELU => POOL\n",
    "    model.add(layers.Convolution2D(40, (3, 3), activation='relu', padding='same',\n",
    "        input_shape=INPUT_SHAPE))\n",
    "    model.add(layers.MaxPooling2D(pool_size=(2, 2), strides=(2, 2)))\n",
    "    # CONV => RELU => POOL\n",
    "    model.add(layers.Convolution2D(50, (3, 3), activation='relu', padding='same'))\n",
    "    model.add(layers.MaxPooling2D(pool_size=(2, 2), strides=(2, 2)))\n",
    "    # CONV => RELU\n",
    "    model.add(layers.Convolution2D(50, (3, 3), activation='relu', padding='valid'))\n",
    "    # Flatten => RELU layers\n",
    "    model.add(layers.Flatten())\n",
    "    model.add(layers.Dense(500, activation='relu'))\n",
    "    # a softmax classifier\n",
    "    model.add(layers.Dense(DIGIT_CLASSES, activation=\"softmax\"))\n",
    "    return model\n",
    "\n",
    "model3 = create_CNN_Model3()\n",
    "model3.summary()"
   ]
  },
  {
   "cell_type": "code",
   "execution_count": 13,
   "id": "0bcd45d1",
   "metadata": {},
   "outputs": [
    {
     "name": "stdout",
     "output_type": "stream",
     "text": [
      "Model: \"sequential_6\"\n",
      "_________________________________________________________________\n",
      " Layer (type)                Output Shape              Param #   \n",
      "=================================================================\n",
      " conv2d_7 (Conv2D)           (None, 26, 26, 20)        200       \n",
      "                                                                 \n",
      " conv2d_8 (Conv2D)           (None, 24, 24, 50)        9050      \n",
      "                                                                 \n",
      " max_pooling2d_6 (MaxPooling  (None, 12, 12, 50)       0         \n",
      " 2D)                                                             \n",
      "                                                                 \n",
      " conv2d_9 (Conv2D)           (None, 10, 10, 50)        22550     \n",
      "                                                                 \n",
      " conv2d_10 (Conv2D)          (None, 8, 8, 50)          22550     \n",
      "                                                                 \n",
      " max_pooling2d_7 (MaxPooling  (None, 4, 4, 50)         0         \n",
      " 2D)                                                             \n",
      "                                                                 \n",
      " flatten_3 (Flatten)         (None, 800)               0         \n",
      "                                                                 \n",
      " dense_6 (Dense)             (None, 500)               400500    \n",
      "                                                                 \n",
      " dense_7 (Dense)             (None, 10)                5010      \n",
      "                                                                 \n",
      "=================================================================\n",
      "Total params: 459,860\n",
      "Trainable params: 459,860\n",
      "Non-trainable params: 0\n",
      "_________________________________________________________________\n"
     ]
    }
   ],
   "source": [
    "def create_CNN_Model4():\n",
    "    DIGIT_CLASSES = 10\n",
    "    IMG_ROWS, IMG_COLS = 28, 28 # input image dimensions\n",
    "    INPUT_SHAPE = (IMG_ROWS, IMG_COLS, 1)\n",
    "    model = models.Sequential()\n",
    "    # CONV => RELU => CONV => RELU => POOL\n",
    "    model.add(layers.Convolution2D(20, (3,3), activation='relu',\n",
    "        input_shape=INPUT_SHAPE))\n",
    "    model.add(layers.Convolution2D(50, (3,3), activation='relu'))\n",
    "    model.add(layers.MaxPooling2D(pool_size=(2, 2), strides=(2, 2)))\n",
    "    # CONV => RELU => CONV => RELU => POOL\n",
    "    model.add(layers.Convolution2D(50, (3,3), activation='relu'))\n",
    "    model.add(layers.Convolution2D(50, (3,3), activation='relu'))\n",
    "    model.add(layers.MaxPooling2D(pool_size=(2, 2), strides=(2, 2)))\n",
    "    # Flatten => RELU layers\n",
    "    model.add(layers.Flatten())\n",
    "    model.add(layers.Dense(500, activation='relu'))\n",
    "    # a softmax classifier\n",
    "    model.add(layers.Dense(DIGIT_CLASSES, activation=\"softmax\"))\n",
    "    return model\n",
    "  \n",
    "model4 = create_CNN_Model4()\n",
    "model4.summary()"
   ]
  }
 ],
 "metadata": {
  "kernelspec": {
   "display_name": "Python 3 (ipykernel)",
   "language": "python",
   "name": "python3"
  },
  "language_info": {
   "codemirror_mode": {
    "name": "ipython",
    "version": 3
   },
   "file_extension": ".py",
   "mimetype": "text/x-python",
   "name": "python",
   "nbconvert_exporter": "python",
   "pygments_lexer": "ipython3",
   "version": "3.9.12"
  }
 },
 "nbformat": 4,
 "nbformat_minor": 5
}
