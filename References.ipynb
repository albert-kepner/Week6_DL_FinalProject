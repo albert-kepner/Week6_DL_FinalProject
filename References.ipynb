{
 "cells": [
  {
   "cell_type": "markdown",
   "id": "f3fba86f",
   "metadata": {},
   "source": [
    "## References\n",
    "\n",
    "1. MNIST digits classification dataset https://keras.io/api/datasets/mnist/\n",
    "\n",
    "1. <ins>Hands-on Machine Learning with Scikit-Learn, Keras & Tensorflow</ins>, 2nd Edition by Aurelien Geron\n",
    "\n",
    "1. <ins>Deep Learning with Tensorflow 2 and Keras</ins>, 2nd Edition by Antonio Gulli, Amita Kapoor, Sujit Pal\n",
    "\n",
    "1. Understanding and Implementing LeNet-5 CNN Architecture (Deep Learning) by Richmond Alake https://towardsdatascience.com/understanding-and-implementing-lenet-5-cnn-architecture-deep-learning-a2d531ebc342\n",
    "\n",
    "1. GradientBased Learning Applied to Document Recognition by Yann LeCun Leon Bottou Yoshua Bengio and Patrick Haner http://vision.stanford.edu/cs598_spring07/papers/Lecun98.pdf"
   ]
  },
  {
   "cell_type": "code",
   "execution_count": null,
   "id": "0f0251ba",
   "metadata": {},
   "outputs": [],
   "source": []
  }
 ],
 "metadata": {
  "kernelspec": {
   "display_name": "Python 3 (ipykernel)",
   "language": "python",
   "name": "python3"
  },
  "language_info": {
   "codemirror_mode": {
    "name": "ipython",
    "version": 3
   },
   "file_extension": ".py",
   "mimetype": "text/x-python",
   "name": "python",
   "nbconvert_exporter": "python",
   "pygments_lexer": "ipython3",
   "version": "3.9.12"
  }
 },
 "nbformat": 4,
 "nbformat_minor": 5
}
